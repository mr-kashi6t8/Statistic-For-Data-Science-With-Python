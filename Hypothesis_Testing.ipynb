{
 "cells": [
  {
   "cell_type": "markdown",
   "id": "f7fc3999-a633-4873-aab2-19eaecab6822",
   "metadata": {},
   "source": [
    "<p style=\"text-align:center\">\n",
    "    <a href=\"https://skills.network\" target=\"_blank\">\n",
    "    <img src=\"https://cf-courses-data.s3.us.cloud-object-storage.appdomain.cloud/assets/logos/SN_web_lightmode.png\" width=\"200\" alt=\"Skills Network Logo\">\n",
    "    </a>\n",
    "</p>\n"
   ]
  },
  {
   "cell_type": "markdown",
   "id": "4ed9d3c7-6c4c-4d16-9931-c7d334951840",
   "metadata": {},
   "source": [
    "# **Hypothesis Testing**\n"
   ]
  },
  {
   "cell_type": "markdown",
   "id": "663a0161-d6cb-47fd-bf88-8e0bd5fce201",
   "metadata": {},
   "source": [
    "Estimated time needed: **30** minutes\n"
   ]
  },
  {
   "cell_type": "markdown",
   "id": "e984c2cf-d2bf-4168-8296-db068fcae196",
   "metadata": {},
   "source": [
    "The goal of hypothesis testing is to answer the question, “Given a sample and an apparent effect, what is the probability of seeing such an effect by chance?” The first step is to quantify the size of the apparent effect by choosing a test statistic (t-test, ANOVA, etc). The next step is to define a null hypothesis, which is a model of the system based on the assumption that the apparent effect is not real. Then compute the p-value, which is the probability of the null hypothesis being true, and finally interpret the result of the p-value, if the value is low, the effect is said to be statistically significant, which means that the null hypothesis may not be accurate.\n"
   ]
  },
  {
   "cell_type": "markdown",
   "id": "50609ce5-2bcf-4d61-9a20-f1e921bd4e8b",
   "metadata": {},
   "source": [
    "## Objectives\n"
   ]
  },
  {
   "cell_type": "markdown",
   "id": "ce8a9b2e-7892-4adf-a09a-935ae23d0bf0",
   "metadata": {},
   "source": [
    "* Import Libraries\n",
    "* Lab exercises\n",
    "    * Stating the hypothesis\n",
    "    * Levene's Test for equality\n",
    "    * Preparing your data for hypothesis testing\n",
    "* Quiz\n"
   ]
  },
  {
   "cell_type": "markdown",
   "id": "8723dea4-b09e-4131-99b7-43aa7e4e78b2",
   "metadata": {},
   "source": [
    "----\n"
   ]
  },
  {
   "cell_type": "markdown",
   "id": "e193e4d7-8eb9-4d98-907c-1f69bf828866",
   "metadata": {},
   "source": [
    "## Import Libraries\n"
   ]
  },
  {
   "cell_type": "markdown",
   "id": "cb42f003-c5c3-44ee-ae37-d3daf59111a8",
   "metadata": {},
   "source": [
    "All Libraries required for this lab are listed below. The libraries pre-installed on Skills Network Labs are commented. If you run this notebook in a different environment, e.g. your desktop, you may need to uncomment and install certain libraries.\n"
   ]
  },
  {
   "cell_type": "code",
   "execution_count": null,
   "id": "9e33c198-389d-42f8-93d9-a9b46ceefbb4",
   "metadata": {},
   "outputs": [],
   "source": [
    "#install specific version of libraries used in lab\n",
    "!pip install pandas\n",
    "!pip install numpy\n",
    "!pip install scipy\n",
    "!pip install seaborn\n",
    "!pip install matplotlib\n",
    "!pip install statsmodels"
   ]
  },
  {
   "cell_type": "markdown",
   "id": "a55de0ff-1e48-4e0b-bc1b-b97bae1c7fc0",
   "metadata": {},
   "source": [
    "Import the libraries we need for the lab\n"
   ]
  },
  {
   "cell_type": "code",
   "execution_count": 1,
   "id": "d926047c-fb9d-4a88-aba3-b073cc4de751",
   "metadata": {},
   "outputs": [],
   "source": [
    "import numpy as np\n",
    "import pandas as pd\n",
    "import seaborn as sns\n",
    "import matplotlib.pyplot as plt\n",
    "import scipy.stats"
   ]
  },
  {
   "cell_type": "markdown",
   "id": "50f9aa81-da49-4061-bd49-adc22d2b40b8",
   "metadata": {},
   "source": [
    "Read in the csv file from the URL using the request library\n"
   ]
  },
  {
   "cell_type": "code",
   "execution_count": 2,
   "id": "cf3a145e-c466-41b9-be91-344274ba3a90",
   "metadata": {},
   "outputs": [],
   "source": [
    "ratings_url = 'https://cf-courses-data.s3.us.cloud-object-storage.appdomain.cloud/IBMDeveloperSkillsNetwork-ST0151EN-SkillsNetwork/labs/teachingratings.csv'\n",
    "ratings_df = pd.read_csv(ratings_url)"
   ]
  },
  {
   "cell_type": "markdown",
   "id": "b8b9e732-55b7-4722-a0e5-f2421c3b04b9",
   "metadata": {},
   "source": [
    "## Lab Exercises\n"
   ]
  },
  {
   "cell_type": "markdown",
   "id": "49a7b378-25bd-46fc-a63b-a5ecae5a0418",
   "metadata": {},
   "source": [
    "### T-Test: Using the teachers' rating data set, does gender affect teaching evaluation rates?\n"
   ]
  },
  {
   "cell_type": "markdown",
   "id": "75c3e066-6d16-4ff4-bec9-80019f88d4d1",
   "metadata": {},
   "source": [
    "We will be using the t-test for independent samples. For the independent t-test, the following assumptions must be met.\n",
    "* One independent, categorical variable with two levels or group\n",
    "* One dependent continuous variable\n",
    "* Independence of the observations. Each subject should belong to only one group. There is no relationship between the observations in each group.\n",
    "* The dependent variable must follow a normal distribution\n",
    "* Assumption of homogeneity of variance\n"
   ]
  },
  {
   "cell_type": "markdown",
   "id": "f66bce0a-b1be-4ce7-86cb-77ec2de46aa9",
   "metadata": {},
   "source": [
    "State the hypothesis\n",
    "* $H_0: µ_1 = µ_2$ (\"there is no difference in evaluation scores between male and females\")\n",
    "* $H_1: µ_1 ≠ µ_2$ (\"there is a difference in evaluation scores between male and females\")\n"
   ]
  },
  {
   "cell_type": "markdown",
   "id": "fc18a4af-8c91-493e-a816-dc780d97356f",
   "metadata": {},
   "source": [
    "We can plot the dependent variable with a historgram\n"
   ]
  },
  {
   "cell_type": "code",
   "execution_count": 3,
   "id": "af10f534-b0ab-4dce-b720-50c942275533",
   "metadata": {},
   "outputs": [
    {
     "name": "stderr",
     "output_type": "stream",
     "text": [
      "C:\\Users\\User\\AppData\\Local\\Temp\\ipykernel_396\\815440975.py:1: UserWarning: \n",
      "\n",
      "`distplot` is a deprecated function and will be removed in seaborn v0.14.0.\n",
      "\n",
      "Please adapt your code to use either `displot` (a figure-level function with\n",
      "similar flexibility) or `histplot` (an axes-level function for histograms).\n",
      "\n",
      "For a guide to updating your code to use the new functions, please see\n",
      "https://gist.github.com/mwaskom/de44147ed2974457ad6372750bbe5751\n",
      "\n",
      "  ax = sns.distplot(ratings_df['eval'],\n"
     ]
    },
    {
     "data": {
      "text/plain": [
       "[Text(0.5, 0, 'Normal Distribution'), Text(0, 0.5, 'Frequency')]"
      ]
     },
     "execution_count": 3,
     "metadata": {},
     "output_type": "execute_result"
    },
    {
     "data": {
      "image/png": "[encoded data removed]",
      "text/plain": [
       "<Figure size 640x480 with 1 Axes>"
      ]
     },
     "metadata": {},
     "output_type": "display_data"
    }
   ],
   "source": [
    "ax = sns.distplot(ratings_df['eval'],\n",
    "                  bins=20,\n",
    "                  kde=True,\n",
    "                  color='red',\n",
    "                  hist_kws={\"linewidth\": 15,'alpha':1})\n",
    "ax.set(xlabel='Normal Distribution', ylabel='Frequency')\n",
    "## we can assume it is normal"
   ]
  },
  {
   "cell_type": "markdown",
   "id": "5563be34-eb06-4b01-b0a8-d87446998e9a",
   "metadata": {},
   "source": [
    "We can use the Levene's Test in Python to check test significance\n"
   ]
  },
  {
   "cell_type": "code",
   "execution_count": 4,
   "id": "2e306472-a78a-419b-a34d-3ccba0b6f8dd",
   "metadata": {},
   "outputs": [
    {
     "data": {
      "text/plain": [
       "LeveneResult(statistic=np.float64(0.19032922435292574), pvalue=np.float64(0.6628469836244741))"
      ]
     },
     "execution_count": 4,
     "metadata": {},
     "output_type": "execute_result"
    }
   ],
   "source": [
    "scipy.stats.levene(ratings_df[ratings_df['gender'] == 'female']['eval'],\n",
    "                   ratings_df[ratings_df['gender'] == 'male']['eval'], center='mean')\n",
    "\n",
    "# since the p-value is greater than 0.05 we can assume equality of variance"
   ]
  },
  {
   "cell_type": "markdown",
   "id": "438c9165-da24-4a0a-b576-00a31f2fd87a",
   "metadata": {},
   "source": [
    "Use the <code>ttest_ind</code> from the <code>scipy_stats</code> library\n"
   ]
  },
  {
   "cell_type": "code",
   "execution_count": 5,
   "id": "31391684-8948-4b59-b275-f1ae435a7b71",
   "metadata": {},
   "outputs": [
    {
     "data": {
      "text/plain": [
       "TtestResult(statistic=np.float64(-3.249937943510772), pvalue=np.float64(0.0012387609449522217), df=np.float64(461.0))"
      ]
     },
     "execution_count": 5,
     "metadata": {},
     "output_type": "execute_result"
    }
   ],
   "source": [
    "scipy.stats.ttest_ind(ratings_df[ratings_df['gender'] == 'female']['eval'],\n",
    "                   ratings_df[ratings_df['gender'] == 'male']['eval'], equal_var = True)"
   ]
  },
  {
   "cell_type": "markdown",
   "id": "38a87c5d-94fc-40d9-b0d4-56a2eb9e135d",
   "metadata": {},
   "source": [
    "**Conclusion:** Since the p-value is less than alpha value 0.05, we reject the null hypothesis as there is enough proof that there is a statistical difference in teaching evaluations based on gender\n"
   ]
  },
  {
   "cell_type": "markdown",
   "id": "c5c0e12d-8244-4b8a-bdc9-eb94907e9003",
   "metadata": {},
   "source": [
    "### ANOVA: Using the teachers' rating data set, does beauty  score for instructors  differ by age?\n"
   ]
  },
  {
   "cell_type": "markdown",
   "id": "da5ff8f1-a1a9-433e-849c-3ecc2b2921e2",
   "metadata": {},
   "source": [
    "First, we group the data into cateries as the one-way ANOVA can't work with continuous variable - using the example from the video, we will create a new column for this newly assigned group our categories will be teachers that are:\n",
    "* 40 years and younger\n",
    "* between 40 and 57 years\n",
    "* 57 years and older\n"
   ]
  },
  {
   "cell_type": "code",
   "execution_count": 6,
   "id": "a699a83c-9fc4-4bdf-9194-948e45df6413",
   "metadata": {},
   "outputs": [],
   "source": [
    "ratings_df.loc[(ratings_df['age'] <= 40), 'age_group'] = '40 years and younger'\n",
    "ratings_df.loc[(ratings_df['age'] > 40)&(ratings_df['age'] < 57), 'age_group'] = 'between 40 and 57 years'\n",
    "ratings_df.loc[(ratings_df['age'] >= 57), 'age_group'] = '57 years and older'"
   ]
  },
  {
   "cell_type": "markdown",
   "id": "9fd76eb3-5b27-45e6-b9b1-e3743b9bee4a",
   "metadata": {},
   "source": [
    "State the hypothesis\n",
    "* $H_0: µ_1 = µ_2 = µ_3$ (the three population means are equal)\n",
    "* $H_1:$ At least one of the means differ\n"
   ]
  },
  {
   "cell_type": "markdown",
   "id": "e8cf7bc8-9ac3-4130-b784-9a14ee405e3d",
   "metadata": {},
   "source": [
    "Test for equality of variance\n"
   ]
  },
  {
   "cell_type": "code",
   "execution_count": 7,
   "id": "c27336e2-1424-48ba-80e2-8917ebf25122",
   "metadata": {},
   "outputs": [
    {
     "data": {
      "text/plain": [
       "LeveneResult(statistic=np.float64(8.60005668392584), pvalue=np.float64(0.000215366180993476))"
      ]
     },
     "execution_count": 7,
     "metadata": {},
     "output_type": "execute_result"
    }
   ],
   "source": [
    "scipy.stats.levene(ratings_df[ratings_df['age_group'] == '40 years and younger']['beauty'],\n",
    "                   ratings_df[ratings_df['age_group'] == 'between 40 and 57 years']['beauty'], \n",
    "                   ratings_df[ratings_df['age_group'] == '57 years and older']['beauty'], \n",
    "                   center='mean')\n",
    "# since the p-value is less than 0.05, the variance are not equal, for the purposes of this exercise, we will move along"
   ]
  },
  {
   "cell_type": "markdown",
   "id": "23938589-4a1d-4f49-8f73-48a6dd8da147",
   "metadata": {},
   "source": [
    "First, separate the three samples (one for each job category) into a variable each.\n"
   ]
  },
  {
   "cell_type": "code",
   "execution_count": 8,
   "id": "e78ef587-1096-4a0f-94df-f081c42339e1",
   "metadata": {},
   "outputs": [],
   "source": [
    "forty_lower = ratings_df[ratings_df['age_group'] == '40 years and younger']['beauty']\n",
    "forty_fiftyseven = ratings_df[ratings_df['age_group'] == 'between 40 and 57 years']['beauty']\n",
    "fiftyseven_older = ratings_df[ratings_df['age_group'] == '57 years and older']['beauty']"
   ]
  },
  {
   "cell_type": "markdown",
   "id": "0e53f6d0-44ff-4c55-9e93-cb07cc4cdefd",
   "metadata": {},
   "source": [
    "Now, run a one-way ANOVA.\n"
   ]
  },
  {
   "cell_type": "code",
   "execution_count": 9,
   "id": "161e0cc5-a3d0-4d57-b3b1-5459ae3ab6c2",
   "metadata": {},
   "outputs": [
    {
     "name": "stdout",
     "output_type": "stream",
     "text": [
      "F_Statistic: 17.597558611010122, P-Value: 4.3225489816137975e-08\n"
     ]
    }
   ],
   "source": [
    "f_statistic, p_value = scipy.stats.f_oneway(forty_lower, forty_fiftyseven, fiftyseven_older)\n",
    "print(\"F_Statistic: {0}, P-Value: {1}\".format(f_statistic,p_value))"
   ]
  },
  {
   "cell_type": "markdown",
   "id": "4cebcf87-ee6c-4746-8595-34a5645a5f82",
   "metadata": {},
   "source": [
    "**Conclusion:** Since the p-value is less than 0.05, we will reject the null hypothesis as there is significant evidence that at least one of the means differ.\n"
   ]
  },
  {
   "cell_type": "markdown",
   "id": "5f19eb15-3afb-4ccc-ac98-6a7e4a78540b",
   "metadata": {},
   "source": [
    "### ANOVA: Using the teachers' rating data set, does teaching  evaluation  score for instructors  differ  by age?\n"
   ]
  },
  {
   "cell_type": "markdown",
   "id": "c7e55914-4b42-4edd-901c-8560f76d9fea",
   "metadata": {},
   "source": [
    "Test for equality of variance\n"
   ]
  },
  {
   "cell_type": "code",
   "execution_count": 10,
   "id": "8e911e2a-fe48-46cf-89ea-916bb1abfd5d",
   "metadata": {},
   "outputs": [
    {
     "data": {
      "text/plain": [
       "LeveneResult(statistic=np.float64(3.820237661494229), pvalue=np.float64(0.02262141852021939))"
      ]
     },
     "execution_count": 10,
     "metadata": {},
     "output_type": "execute_result"
    }
   ],
   "source": [
    "scipy.stats.levene(ratings_df[ratings_df['age_group'] == '40 years and younger']['eval'],\n",
    "                   ratings_df[ratings_df['age_group'] == 'between 40 and 57 years']['eval'], \n",
    "                   ratings_df[ratings_df['age_group'] == '57 years and older']['eval'], \n",
    "                   center='mean')\n"
   ]
  },
  {
   "cell_type": "code",
   "execution_count": 11,
   "id": "1fb8c0ba-2c19-4ee6-90cd-36deef93f2c0",
   "metadata": {},
   "outputs": [],
   "source": [
    "forty_lower_eval = ratings_df[ratings_df['age_group'] == '40 years and younger']['eval']\n",
    "forty_fiftyseven_eval = ratings_df[ratings_df['age_group'] == 'between 40 and 57 years']['eval']\n",
    "fiftyseven_older_eval = ratings_df[ratings_df['age_group'] == '57 years and older']['eval']"
   ]
  },
  {
   "cell_type": "code",
   "execution_count": 12,
   "id": "a2ba9a3d-5c00-407a-a8b1-71c277173920",
   "metadata": {},
   "outputs": [
    {
     "name": "stdout",
     "output_type": "stream",
     "text": [
      "F_Statistic: 1.2226327996572206, P-Value: 0.29540894225417536\n"
     ]
    }
   ],
   "source": [
    "f_statistic, p_value = scipy.stats.f_oneway(forty_lower_eval, forty_fiftyseven_eval, fiftyseven_older_eval)\n",
    "print(\"F_Statistic: {0}, P-Value: {1}\".format(f_statistic,p_value))"
   ]
  },
  {
   "cell_type": "markdown",
   "id": "fca412b4-7a56-40a9-90a4-fceb298d7017",
   "metadata": {},
   "source": [
    "**Conclusion:** Since the p-value is greater than 0.05, we will fail to reject the null hypothesis as there is no significant evidence that at least one of the means differ.\n"
   ]
  },
  {
   "cell_type": "markdown",
   "id": "e8929c0f-a05a-4106-b870-94e469cab5bd",
   "metadata": {},
   "source": [
    "### Chi-square: Using the teachers' rating data set, is there an association between tenure and gender?\n"
   ]
  },
  {
   "cell_type": "markdown",
   "id": "22524d6b-0959-4219-9748-6b33364b32ce",
   "metadata": {},
   "source": [
    "State the hypothesis:\n",
    "* $H_0:$ The proportion of teachers who are tenured is independent of gender\n",
    "* $H_1:$ The proportion of teachers who are tenured is associated with gender\n"
   ]
  },
  {
   "cell_type": "markdown",
   "id": "4274f4d2-0916-4379-b248-88bbd5c803d3",
   "metadata": {},
   "source": [
    "Create a Cross-tab table\n"
   ]
  },
  {
   "cell_type": "code",
   "execution_count": 13,
   "id": "bed9510d-ff37-4897-9f9f-97068b46d162",
   "metadata": {},
   "outputs": [
    {
     "data": {
      "text/html": [
       "<div>\n",
       "<style scoped>\n",
       "    .dataframe tbody tr th:only-of-type {\n",
       "        vertical-align: middle;\n",
       "    }\n",
       "\n",
       "    .dataframe tbody tr th {\n",
       "        vertical-align: top;\n",
       "    }\n",
       "\n",
       "    .dataframe thead th {\n",
       "        text-align: right;\n",
       "    }\n",
       "</style>\n",
       "<table border=\"1\" class=\"dataframe\">\n",
       "  <thead>\n",
       "    <tr style=\"text-align: right;\">\n",
       "      <th>gender</th>\n",
       "      <th>female</th>\n",
       "      <th>male</th>\n",
       "    </tr>\n",
       "    <tr>\n",
       "      <th>tenure</th>\n",
       "      <th></th>\n",
       "      <th></th>\n",
       "    </tr>\n",
       "  </thead>\n",
       "  <tbody>\n",
       "    <tr>\n",
       "      <th>no</th>\n",
       "      <td>50</td>\n",
       "      <td>52</td>\n",
       "    </tr>\n",
       "    <tr>\n",
       "      <th>yes</th>\n",
       "      <td>145</td>\n",
       "      <td>216</td>\n",
       "    </tr>\n",
       "  </tbody>\n",
       "</table>\n",
       "</div>"
      ],
      "text/plain": [
       "gender  female  male\n",
       "tenure              \n",
       "no          50    52\n",
       "yes        145   216"
      ]
     },
     "execution_count": 13,
     "metadata": {},
     "output_type": "execute_result"
    }
   ],
   "source": [
    "cont_table  = pd.crosstab(ratings_df['tenure'], ratings_df['gender'])\n",
    "cont_table"
   ]
  },
  {
   "cell_type": "markdown",
   "id": "352ef3d8-bc61-4f9e-94f0-7d2f32135290",
   "metadata": {},
   "source": [
    "Use the <code>scipy.stats</code> library and set correction equals False as that will be the same answer when done by hand, it returns: 𝜒2 value, p-value, degree of freedom, and expected values.\n"
   ]
  },
  {
   "cell_type": "code",
   "execution_count": 14,
   "id": "d38375e7-4d81-4429-85a4-2dbb15d45194",
   "metadata": {},
   "outputs": [
    {
     "data": {
      "text/plain": [
       "Chi2ContingencyResult(statistic=np.float64(2.20678166999886), pvalue=np.float64(0.1374050603563787), dof=1, expected_freq=array([[ 42.95896328,  59.04103672],\n",
       "       [152.04103672, 208.95896328]]))"
      ]
     },
     "execution_count": 14,
     "metadata": {},
     "output_type": "execute_result"
    }
   ],
   "source": [
    "scipy.stats.chi2_contingency(cont_table, correction = True)"
   ]
  },
  {
   "cell_type": "markdown",
   "id": "829d41b2-bb06-4ad8-b240-508518903e6a",
   "metadata": {},
   "source": [
    "**Conclusion:** Since the p-value is greater than 0.05, we fail to reject the null hypothesis. As there is no sufficient evidence that teachers are tenured as a result of gender.\n"
   ]
  },
  {
   "cell_type": "markdown",
   "id": "bb3e1663-fb1a-42ff-8495-9512aafcd75d",
   "metadata": {},
   "source": [
    "### Correlation: Using the teachers rating dataset, Is teaching  evaluation  score correlated with  beauty score?\n"
   ]
  },
  {
   "cell_type": "markdown",
   "id": "ba8c42d7-c5fa-4818-a22a-b494e018e15a",
   "metadata": {},
   "source": [
    "State the hypothesis:\n",
    "* $H_0:$ Teaching evaluation score is not correlated with beauty score\n",
    "* $H_1:$ Teaching evaluation score is correlated with beauty score\n"
   ]
  },
  {
   "cell_type": "markdown",
   "id": "eb01a8fc-a1fd-4386-8de0-63356f024e62",
   "metadata": {},
   "source": [
    "Since they are both continuous variables we can use a pearson correlation test and draw a scatter plot\n"
   ]
  },
  {
   "cell_type": "code",
   "execution_count": 15,
   "id": "2a4cefa4-3620-417d-9fb2-cab98241619f",
   "metadata": {},
   "outputs": [
    {
     "data": {
      "image/png": "[encoded data removed]",
      "text/plain": [
       "<Figure size 640x480 with 1 Axes>"
      ]
     },
     "metadata": {},
     "output_type": "display_data"
    }
   ],
   "source": [
    "ax = sns.scatterplot(x=\"beauty\", y=\"eval\", data=ratings_df)"
   ]
  },
  {
   "cell_type": "code",
   "execution_count": 16,
   "id": "c3bd52c3-55c7-4672-84a3-947dbfc6491b",
   "metadata": {},
   "outputs": [
    {
     "data": {
      "text/plain": [
       "PearsonRResult(statistic=np.float64(0.18903909084045212), pvalue=np.float64(4.2471154198134764e-05))"
      ]
     },
     "execution_count": 16,
     "metadata": {},
     "output_type": "execute_result"
    }
   ],
   "source": [
    "scipy.stats.pearsonr(ratings_df['beauty'], ratings_df['eval'])"
   ]
  },
  {
   "cell_type": "markdown",
   "id": "05724198-9cce-4527-95e6-82d7ecb22093",
   "metadata": {},
   "source": [
    "**Conclusion:** Since the p-value  (Sig. (2-tailed)  < 0.05, we reject  the Null hypothesis and conclude that there  exists a relationship between  beauty and teaching evaluation score.\n"
   ]
  },
  {
   "cell_type": "markdown",
   "id": "9e9c44a9-90e0-4e22-accd-507e0a67196d",
   "metadata": {},
   "source": [
    "## Practice Questions\n"
   ]
  },
  {
   "cell_type": "markdown",
   "id": "69e440d1-6d1c-4daa-a361-dd1e50768077",
   "metadata": {},
   "source": [
    "### Question 1: Using the teachers rating data set, does tenure affect teaching evaluation scores?\n",
    "* Use α = 0.05\n"
   ]
  },
  {
   "cell_type": "code",
   "execution_count": 17,
   "id": "ea61e075-adca-4e92-b7aa-c4d30250228c",
   "metadata": {},
   "outputs": [
    {
     "data": {
      "text/plain": [
       "TtestResult(statistic=np.float64(-2.8046798258451777), pvalue=np.float64(0.005249471210198793), df=np.float64(461.0))"
      ]
     },
     "execution_count": 17,
     "metadata": {},
     "output_type": "execute_result"
    }
   ],
   "source": [
    "## insert code here\n",
    "scipy.stats.ttest_ind(ratings_df[ratings_df['tenure'] == 'yes']['eval'],\n",
    "                   ratings_df[ratings_df['tenure'] == 'no']['eval'], equal_var = True)"
   ]
  },
  {
   "cell_type": "markdown",
   "id": "7c782042-c6d0-4aab-84d9-60a1f1d7d5a9",
   "metadata": {},
   "source": [
    "Double-click **here** for the solution.\n",
    "\n",
    "<!-- The answer is below:\n",
    "scipy.stats.ttest_ind(ratings_df[ratings_df['tenure'] == 'yes']['eval'],\n",
    "                   ratings_df[ratings_df['tenure'] == 'no']['eval'], equal_var = True)\n",
    "The p-value is less than 0.05 that means that - we will reject the null hypothesis as there evidence that being tenured affects teaching evaluation scores\n",
    "-->\n"
   ]
  },
  {
   "cell_type": "markdown",
   "id": "af284627-b1a2-43d5-ad2e-c254b744c1d0",
   "metadata": {},
   "source": [
    "### Question 2: Using the teachers rating data set, is there an association between age and tenure?\n",
    "* Discretize the age into three groups 40 years and youngers, between 40 and 57 years, 57 years and older (This has already been done for you above.)\n",
    "* What is your conclusion at α = 0.01 and α = 0.05?\n"
   ]
  },
  {
   "cell_type": "code",
   "execution_count": 18,
   "id": "949cf3ab-fac9-4c66-a20d-01ef537dcde2",
   "metadata": {},
   "outputs": [
    {
     "data": {
      "text/plain": [
       "Chi2ContingencyResult(statistic=np.float64(2.20678166999886), pvalue=np.float64(0.1374050603563787), dof=1, expected_freq=array([[ 42.95896328,  59.04103672],\n",
       "       [152.04103672, 208.95896328]]))"
      ]
     },
     "execution_count": 18,
     "metadata": {},
     "output_type": "execute_result"
    }
   ],
   "source": [
    "## insert code here\n",
    "scipy.stats.chi2_contingency(cont_table, correction = True)"
   ]
  },
  {
   "cell_type": "markdown",
   "id": "87b5dc4d-be83-4f6c-ae66-8deb67ae4c8b",
   "metadata": {},
   "source": [
    "Double-click **here** for a hint.\n",
    "\n",
    "<!-- The hint is below:\n",
    "## state your hypothesis\n",
    "Null Hypothesis: There is no association between age and tenure\n",
    "Alternative Hypothesis: There is an association between age and tenure\n",
    "\n",
    "## don't forget to create a cross tab of the data\n",
    "cont_table  = pd.crosstab(ratings_df['tenure'], ratings_df['age_group'])\n",
    "-->\n"
   ]
  },
  {
   "cell_type": "markdown",
   "id": "a0ff16c7-89b6-4159-903b-13a635b2f142",
   "metadata": {},
   "source": [
    "Double-click **here** for the solution.\n",
    "\n",
    "<!-- The answer is below:\n",
    "## use the chi-square function\n",
    "scipy.stats.chi2_contingency(cont_table, correction = True)\n",
    "At the α = 0.01, p-value is greater, we fail to reject null hypothesis as there is no evidence of an association between age and tenure\n",
    "At the α = 0.05, p-value is less, we reject null hypoothesis as there is evidence of an association between age and tenure\n",
    "-->\n"
   ]
  },
  {
   "cell_type": "markdown",
   "id": "e7f22437-0a50-41b0-b885-cb06d6824646",
   "metadata": {},
   "source": [
    "### Question 3: Test for equality of variance for beauty scores between tenured and non-tenured instructors\n",
    "* Use α = 0.05\n"
   ]
  },
  {
   "cell_type": "code",
   "execution_count": 19,
   "id": "a26f2d45-7335-4ba9-aefe-0b2025608cd1",
   "metadata": {},
   "outputs": [
    {
     "data": {
      "text/plain": [
       "LeveneResult(statistic=np.float64(0.4884241652750426), pvalue=np.float64(0.4849835158609811))"
      ]
     },
     "execution_count": 19,
     "metadata": {},
     "output_type": "execute_result"
    }
   ],
   "source": [
    "## insert code here\n",
    "scipy.stats.levene(ratings_df[ratings_df['tenure'] == 'yes']['beauty'],\n",
    "                   ratings_df[ratings_df['tenure'] == 'no']['beauty'], \n",
    "                   center='mean')"
   ]
  },
  {
   "cell_type": "markdown",
   "id": "7755754a-f00d-4b66-9637-601147a6adce",
   "metadata": {},
   "source": [
    "Double-click **here** for the solution.\n",
    "\n",
    "<!-- The answer is below:\n",
    "### use the levene function to find the p-value and conclusion\n",
    "scipy.stats.levene(ratings_df[ratings_df['tenure'] == 'yes']['beauty'],\n",
    "                   ratings_df[ratings_df['tenure'] == 'no']['beauty'], \n",
    "                   center='mean')\n",
    "Since the p-value is greater than 0.05, we will assume equality of variance of both groups\n",
    "-->\n"
   ]
  },
  {
   "cell_type": "markdown",
   "id": "026e2d82-17b6-4eaf-94cb-ecae0119bf92",
   "metadata": {},
   "source": [
    "### Question 4: Using the teachers rating data set, is there an association between visible minorities and tenure?\n",
    "* Use α = 0.05\n"
   ]
  },
  {
   "cell_type": "code",
   "execution_count": 20,
   "id": "68365583-12dd-45fc-a098-ee033b0efe3b",
   "metadata": {},
   "outputs": [
    {
     "data": {
      "text/plain": [
       "Chi2ContingencyResult(statistic=np.float64(2.20678166999886), pvalue=np.float64(0.1374050603563787), dof=1, expected_freq=array([[ 42.95896328,  59.04103672],\n",
       "       [152.04103672, 208.95896328]]))"
      ]
     },
     "execution_count": 20,
     "metadata": {},
     "output_type": "execute_result"
    }
   ],
   "source": [
    "## insert code here\n",
    "scipy.stats.chi2_contingency(cont_table, correction = True)"
   ]
  },
  {
   "cell_type": "markdown",
   "id": "e6a511d2-1747-47e1-8a56-6331f7c8075d",
   "metadata": {},
   "source": [
    "Double-click **here** for a hint.\n",
    "\n",
    "<!-- The hint is below:\n",
    "##State you hypothesis and Create a cross-tab:\n",
    "Null Hypothesis: There is no association between visible minorities and tenure\n",
    "Alternative Hypothesis: There is an association between visible minorities and tenure\n",
    "\n",
    "cont_table  = pd.crosstab(ratings_df['vismin'], ratings_df['tenure'])\n",
    "-->\n"
   ]
  },
  {
   "cell_type": "markdown",
   "id": "f8f74a9d-7ee8-4acc-9f56-ab65ee9e33e3",
   "metadata": {},
   "source": [
    "Double-click **here** for the solution.\n",
    "\n",
    "<!-- The answer is below:\n",
    "## run the chi2_contingency() on the contigency table\n",
    "scipy.stats.chi2_contingency(cont_table, correction = True)\n",
    "Since the p-value is greater than 0.05, we fail to reject null hypothesis as there is no evidence of an association between visible minorities and tenure\n",
    "-->\n"
   ]
  },
  {
   "cell_type": "markdown",
   "id": "b4d08ee6-2228-4ef9-8b04-e0cab2b3ac22",
   "metadata": {},
   "source": [
    "## Authors\n"
   ]
  },
  {
   "cell_type": "markdown",
   "id": "c5ad4954-4c4f-4ac6-b827-a1a168084aeb",
   "metadata": {},
   "source": [
    "[Aije Egwaikhide](https://www.linkedin.com/in/aije-egwaikhide/) is a Data Scientist at IBM who holds a degree in Economics and Statistics from the University of Manitoba and a Post-grad in Business Analytics from St. Lawrence College, Kingston. She is a current employee of IBM where she started as a Junior Data Scientist at the Global Business Services (GBS) in 2018. Her main role was making meaning out of data for their Oil and Gas clients through basic statistics and advanced Machine Learning algorithms. The highlight of her time in GBS was creating a customized end-to-end Machine learning and Statistics solution on optimizing operations in the Oil and Gas wells. She moved to the Cognitive Systems Group as a Senior Data Scientist where she will be providing the team with actionable insights using Data Science techniques and further improve processes through building machine learning solutions. She recently joined the IBM Developer Skills Network group where she brings her real-world experience to the courses she creates.\n"
   ]
  },
  {
   "cell_type": "markdown",
   "id": "a19ad01f-747c-4e2a-9cac-7db93f47f2d4",
   "metadata": {},
   "source": [
    "## Change Log\n"
   ]
  },
  {
   "cell_type": "markdown",
   "id": "df9fef61-57c1-4283-9e3c-a7ca914362e1",
   "metadata": {},
   "source": [
    "|  Date (YYYY-MM-DD) |  Version | Changed By  |  Change Description |\n",
    "|---|---|---|---|\n",
    "| 2020-08-14  | 0.1  | Aije Egwaikhide  |  Created the initial version of the lab |\n"
   ]
  },
  {
   "cell_type": "markdown",
   "id": "fcfc654c-91b0-45af-a8be-9e0c8dd5e7d3",
   "metadata": {},
   "source": [
    " Copyright &copy; 2020 IBM Corporation. This notebook and its source code are released under the terms of the [MIT License](https://cognitiveclass.ai/mit-license/).\n"
   ]
  }
 ],
 "metadata": {
  "kernelspec": {
   "display_name": "Python 3",
   "language": "python",
   "name": "python3"
  },
  "language_info": {
   "codemirror_mode": {
    "name": "ipython",
    "version": 3
   },
   "file_extension": ".py",
   "mimetype": "text/x-python",
   "name": "python",
   "nbconvert_exporter": "python",
   "pygments_lexer": "ipython3",
   "version": "3.13.3"
  },
  "prev_pub_hash": "61d32d653aefd6574934308ccde0d94144fe40ef5ff6baf3ee6858d67da40c90"
 },
 "nbformat": 4,
 "nbformat_minor": 4
}
